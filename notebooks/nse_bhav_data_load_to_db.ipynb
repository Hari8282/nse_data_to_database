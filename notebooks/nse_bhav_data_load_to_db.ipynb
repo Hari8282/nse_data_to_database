{
 "cells": [
  {
   "cell_type": "markdown",
   "metadata": {},
   "source": [
    "# Load bhav csv file to SQL Server table\n",
    "\n",
    "## Objective:\n",
    "\n",
    "- Load NSE bhav csv file to MS SQL server database table.\n",
    "\n",
    "## Customize:\n",
    "\n",
    "- DOWNLOAD_FOLDER = Where all the bhav csv files are downloaded.\n",
    "\n",
    "- ARCHIVE_FOLDER = Once filed loaded to database, will be moved here.\n",
    "\n",
    "[Refer my repo to dowload bhav csv file from NSE](https://github.com/nagaraj-datascientist/nse_data_pull)\n",
    "\n",
    "## Server details:\n",
    "\n",
    "- RDBMS_NAME = `RDBMS NAME. Ex mssql`\n",
    "- DRIVER_NAME = `DRIVER NAME. Ex pymssql`\n",
    "- USER_NAME = `USER NAME`\n",
    "- PASSWORD = `PASSWORD`\n",
    "- SERVER_NAME = `SERVER NAME`\n",
    "- DATABASE_NAME = `DATABASE NAME`\n",
    "\n",
    "\n",
    "## Table details:\n",
    "\n",
    "*Since table creation is one time task and structure can be changed person to person. Adding create table scripts here.*\n",
    "\n",
    "**BHAV_COPY** - Bhav copy csv content loaded here.\n",
    "\n",
    "**BHAV_COPY_TEST** - To validate the load process\n",
    "\n",
    "\n",
    "```SQL \n",
    "\n",
    "-- Create table query\n",
    "\n",
    "CREATE TABLE [dbo].[BHAV_COPY_TEST](\n",
    "    [ID] [int] IDENTITY(1,1) NOT NULL,\n",
    "    [FNAME] [nvarchar](255) NULL,\n",
    "    [RCOUNT] [int]\n",
    ") ON [PRIMARY]\n",
    "\n",
    "\n",
    "CREATE TABLE [dbo].[BHAV_COPY](\n",
    "    [ID] [int] IDENTITY(1,1) NOT NULL,\n",
    "    [SYMBOL] [nvarchar](255) NULL,\n",
    "    [SERIES] [nvarchar](255) NULL,\n",
    "    [OPEN] [float] NULL,\n",
    "    [HIGH] [float] NULL,\n",
    "    [LOW] [float] NULL,\n",
    "    [CLOSE] [float] NULL,\n",
    "    [LAST] [float] NULL,\n",
    "    [PREVCLOSE] [float] NULL,\n",
    "    [TOTTRDQTY] [float] NULL,\n",
    "    [TOTTRDVAL] [float] NULL,\n",
    "    [TIMESTAMP] [date] NULL,\n",
    "    [TOTALTRADES] [float] NULL,\n",
    "    [ISIN] [nvarchar](255) NULL,\n",
    "    [FNAME] [nvarchar](255) NULL\n",
    ") ON [PRIMARY]\n",
    "```\n",
    "\n",
    "\n"
   ]
  },
  {
   "cell_type": "code",
   "execution_count": 4,
   "metadata": {},
   "outputs": [],
   "source": [
    "# Import libraries\n",
    "\n",
    "import pandas as pd\n",
    "import sqlalchemy as sa\n",
    "import pymssql\n",
    "import glob\n",
    "import os\n",
    "import shutil"
   ]
  },
  {
   "cell_type": "code",
   "execution_count": 3,
   "metadata": {},
   "outputs": [
    {
     "name": "stdout",
     "output_type": "stream",
     "text": [
      "Pandas version -  0.25.3\n",
      "sqlalchemy version -  1.3.12\n",
      "pymssql version -  2.1.4\n"
     ]
    }
   ],
   "source": [
    "# Library version\n",
    "\n",
    "print(f'Pandas version -  {pd.__version__}')\n",
    "print(f'sqlalchemy version -  {sa.__version__}')\n",
    "print(f'pymssql version -  {pymssql.__version__}')"
   ]
  },
  {
   "cell_type": "code",
   "execution_count": 6,
   "metadata": {},
   "outputs": [],
   "source": [
    "# Download and Archive folder path\n",
    "\n",
    "DOWNLOAD_FOLDER = '../data/'\n",
    "ARCHIVE_FOLDER = '../archive/'\n",
    "\n",
    "# Server details\n",
    "\n",
    "RDBMS_NAME = '<RDBMS NAME>'\n",
    "DRIVER_NAME = '<DRIVER NAME>'\n",
    "USER_NAME = '<USER NAME>'\n",
    "PASSWORD = '<PASSWORD>'\n",
    "SERVER_NAME = '<SERVER NAME>'\n",
    "DATABASE_NAME = '<DATABASE NAME>'"
   ]
  },
  {
   "cell_type": "code",
   "execution_count": 7,
   "metadata": {},
   "outputs": [],
   "source": [
    "# Table name for bhav_copy and test table\n",
    "\n",
    "BHAV_COPY_TABLE_NAME = 'BHAV_COPY'\n",
    "BHAV_COPY_TEST_TABLE_NAME = 'BHAV_COPY_TEST'"
   ]
  },
  {
   "cell_type": "code",
   "execution_count": 8,
   "metadata": {},
   "outputs": [],
   "source": [
    "# Create folder if not exist\n",
    "\n",
    "if not os.path.exists(DOWNLOAD_FOLDER):\n",
    "    os.makedirs(DOWNLOAD_FOLDER)\n",
    "\n",
    "if not os.path.exists(ARCHIVE_FOLDER):\n",
    "    os.makedirs(ARCHIVE_FOLDER)"
   ]
  },
  {
   "cell_type": "code",
   "execution_count": 9,
   "metadata": {},
   "outputs": [],
   "source": [
    "# downloaded files\n",
    "\n",
    "downloaded_files = glob.glob(f'{DOWNLOAD_FOLDER}/*.csv')"
   ]
  },
  {
   "cell_type": "code",
   "execution_count": 10,
   "metadata": {},
   "outputs": [],
   "source": [
    "# bhav copy columns\n",
    "\n",
    "cols = ['SYMBOL','SERIES','OPEN','HIGH','LOW','CLOSE','LAST',\n",
    "        'PREVCLOSE','TOTTRDQTY','TOTTRDVAL','TIMESTAMP','TOTALTRADES','ISIN']"
   ]
  },
  {
   "cell_type": "code",
   "execution_count": 11,
   "metadata": {},
   "outputs": [],
   "source": [
    "# Database connection\n",
    "\n",
    "engine = sa.create_engine(f'{RDBMS_NAME}+{DRIVER_NAME}://{USER_NAME}:{PASSWORD}@{SERVER_NAME}/{DATABASE_NAME}')"
   ]
  },
  {
   "cell_type": "code",
   "execution_count": 12,
   "metadata": {},
   "outputs": [
    {
     "name": "stdout",
     "output_type": "stream",
     "text": [
      "No. of files to load 1\n",
      "Out of 1, 1 loaded into DB - cm30APR2020bhav.csv.\n"
     ]
    }
   ],
   "source": [
    "# Loading to database\n",
    "\n",
    "if not downloaded_files:\n",
    "    print('No downloaded files to load.')\n",
    "else:\n",
    "    print(f'No. of files to load {len(downloaded_files)}')\n",
    "    for i, f in enumerate(downloaded_files):\n",
    "        file_name = os.path.basename(f)\n",
    "        bhav_df = pd.read_csv(f, usecols=lambda c: c in cols, parse_dates=['TIMESTAMP'])\n",
    "        bhav_df['FNAME'] = file_name\n",
    "        data = [{'FNAME':file_name,'RCOUNT':bhav_df.shape[0]}]\n",
    "        bhav_check_df = pd.DataFrame(data=data)\n",
    "        \n",
    "        with engine.connect() as con:\n",
    "            bhav_df.to_sql(BHAV_COPY_TABLE_NAME, con, if_exists='append', index=False)\n",
    "            bhav_check_df.to_sql(BHAV_COPY_TEST_TABLE_NAME, con, if_exists='append', index=False)\n",
    "            \n",
    "        print(f'Out of {len(downloaded_files)}, {i+1} loaded into DB - {file_name}.')"
   ]
  },
  {
   "cell_type": "code",
   "execution_count": 13,
   "metadata": {},
   "outputs": [],
   "source": [
    "# delete duplicate rows for bhav_copy table if any\n",
    "\n",
    "del_bhav_copy = f'''   DELETE \n",
    "FROM \n",
    "    {BHAV_COPY_TABLE_NAME} \n",
    "WHERE \n",
    "    \"ID\" IN (\n",
    "SELECT \"ID\" \n",
    "FROM(\n",
    "SELECT \n",
    "    *, ROW_NUMBER() OVER (PARTITION BY \"SYMBOL\", \"SERIES\", \"TIMESTAMP\" ORDER BY \"FNAME\") AS \"RNo\" \n",
    "FROM\n",
    "    {BHAV_COPY_TABLE_NAME}) A\n",
    "WHERE A.\"RNo\" >1)  '''"
   ]
  },
  {
   "cell_type": "code",
   "execution_count": 14,
   "metadata": {},
   "outputs": [],
   "source": [
    "# delete duplicate rows for bhav_copy_test table if any\n",
    "\n",
    "del_bhav_copy_test = f'''  DELETE \n",
    "FROM \n",
    "    {BHAV_COPY_TEST_TABLE_NAME} \n",
    "WHERE \n",
    "    \"ID\" IN (\n",
    "SELECT \"ID\" \n",
    "FROM(\n",
    "SELECT \n",
    "    *, ROW_NUMBER() OVER (PARTITION BY \"FNAME\", \"RCOUNT\" ORDER BY \"FNAME\") AS \"RNo\" \n",
    "FROM\n",
    "    {BHAV_COPY_TEST_TABLE_NAME}) A\n",
    "WHERE A.\"RNo\" >1) '''\n"
   ]
  },
  {
   "cell_type": "code",
   "execution_count": 15,
   "metadata": {},
   "outputs": [],
   "source": [
    "# Delete duplicate rows\n",
    "\n",
    "with engine.connect() as con:\n",
    "    con.execute(del_bhav_copy)\n",
    "    con.execute(del_bhav_copy_test)"
   ]
  },
  {
   "cell_type": "code",
   "execution_count": 16,
   "metadata": {},
   "outputs": [
    {
     "name": "stdout",
     "output_type": "stream",
     "text": [
      "Validation Success\n",
      "Bhav files are moved to Archive\n",
      "Program ends...\n"
     ]
    }
   ],
   "source": [
    "# Validating data load\n",
    "\n",
    "bhav_copy_val_sql = f''' SELECT \"FNAME\", COUNT(*) AS \"RCOUNT\" FROM {BHAV_COPY_TABLE_NAME} GROUP BY \"FNAME\"'''\n",
    "\n",
    "with engine.connect() as con:\n",
    "    bhav_count_df = pd.read_sql(bhav_copy_val_sql, con)\n",
    "    bhav_test_count_df = pd.read_sql(BHAV_COPY_TEST_TABLE_NAME, con, columns = ['FNAME', 'RCOUNT'])\n",
    "    \n",
    "    val_df = pd.merge(bhav_count_df, bhav_test_count_df, left_on = 'FNAME', right_on='FNAME', how='outer')\n",
    "    val_df['RESULT'] = (val_df['RCOUNT_x'] == val_df['RCOUNT_y'])\n",
    "    \n",
    "    if val_df['RESULT'].all():\n",
    "        print('Validation Success')\n",
    "        for i, f in enumerate(downloaded_files):\n",
    "            file_name = os.path.basename(f)\n",
    "            file_name_in_archive = f'{ARCHIVE_FOLDER}{file_name}'\n",
    "            if not os.path.isfile(file_name_in_archive):\n",
    "                shutil.move(f, f'{ARCHIVE_FOLDER}')\n",
    "            else:\n",
    "                os.remove(f)\n",
    "        print('Bhav files are moved to Archive')\n",
    "    else:\n",
    "        print('Validation failed.')\n",
    "        print(val_df[~val_df.RESULT])\n",
    "\n",
    "\n",
    "print('Program ends...')"
   ]
  }
 ],
 "metadata": {
  "kernelspec": {
   "display_name": "Python 3",
   "language": "python",
   "name": "python3"
  },
  "language_info": {
   "codemirror_mode": {
    "name": "ipython",
    "version": 3
   },
   "file_extension": ".py",
   "mimetype": "text/x-python",
   "name": "python",
   "nbconvert_exporter": "python",
   "pygments_lexer": "ipython3",
   "version": "3.7.4"
  }
 },
 "nbformat": 4,
 "nbformat_minor": 4
}
