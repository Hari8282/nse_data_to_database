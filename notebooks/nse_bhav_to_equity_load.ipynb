{
 "cells": [
  {
   "cell_type": "markdown",
   "metadata": {},
   "source": [
    "# Load EQ series data to EQUITY table\n",
    "\n",
    "\n",
    "## Table details:\n",
    "\n",
    "*Since table creation is one time task and structure can be changed person to person. Adding create table scripts here.*\n",
    "\n",
    "EQUITY - EQ series data are loaded here.\n",
    "\n",
    "\n",
    "```SQL\n",
    "\n",
    "-- Create table script\n",
    "\n",
    "CREATE TABLE [dbo].[EQUITY](\n",
    "\t[ID] [int] IDENTITY(1,1) NOT NULL,\n",
    "\t[BHAVID] [int] NOT NULL,\n",
    "\t[SYMBOL] [nvarchar](255) NULL,\n",
    "\t[SERIES] [nvarchar](255) NULL,\n",
    "\t[OPEN] [float] NULL,\n",
    "\t[HIGH] [float] NULL,\n",
    "\t[LOW] [float] NULL,\n",
    "\t[CLOSE] [float] NULL,\n",
    "\t[LAST] [float] NULL,\n",
    "\t[PREVCLOSE] [float] NULL,\n",
    "\t[TOTTRDQTY] [float] NULL,\n",
    "\t[TOTTRDVAL] [float] NULL,\n",
    "\t[TIMESTAMP] [date] NULL,\n",
    "\t[TOTALTRADES] [float] NULL,\n",
    "\t[ISIN] [nvarchar](255) NULL,\n",
    "\t[DIFF] [float] NULL,\n",
    "\t[DIFFPREC] [float] NULL,\n",
    "\t[POSITIVE] [bit] NULL,\n",
    "\t[YEAR] [int] NULL,\n",
    "\t[MONTH] [int] NULL,\n",
    "\t[WEEKDAY] [int] NULL\n",
    ") ON [PRIMARY]\n",
    "```"
   ]
  },
  {
   "cell_type": "code",
   "execution_count": 4,
   "metadata": {},
   "outputs": [],
   "source": [
    "# Import libraries\n",
    "\n",
    "import pandas as pd\n",
    "import sqlalchemy as sa\n",
    "import pymssql\n",
    "\n",
    "import numpy as np"
   ]
  },
  {
   "cell_type": "code",
   "execution_count": 5,
   "metadata": {},
   "outputs": [],
   "source": [
    "# Server details\n",
    "\n",
    "RDBMS_NAME = '<RDBMS NAME>'\n",
    "DRIVER_NAME = '<DRIVER NAME>'\n",
    "USER_NAME = '<USER NAME>'\n",
    "PASSWORD = '<PASSWORD>'\n",
    "SERVER_NAME = '<SERVER NAME>'\n",
    "DATABASE_NAME = '<DATABASE NAME>'"
   ]
  },
  {
   "cell_type": "code",
   "execution_count": 6,
   "metadata": {},
   "outputs": [],
   "source": [
    "# Table name for bhav_copy and test table\n",
    "\n",
    "BHAV_COPY_TABLE_NAME = 'BHAV_COPY'\n",
    "EQUITY_TABLE_NAME = 'EQUITY'"
   ]
  },
  {
   "cell_type": "code",
   "execution_count": 7,
   "metadata": {},
   "outputs": [],
   "source": [
    "# Bhav_copy to Equity table cdc data sql query\n",
    "\n",
    "cdc_sql = f''' \n",
    "SELECT * \n",
    "FROM\n",
    "    {BHAV_COPY_TABLE_NAME} \n",
    "WHERE \n",
    "    \"TIMESTAMP\"  > (SELECT ISNULL(MAX(\"timestamp\"),'2000-01-01') FROM {EQUITY_TABLE_NAME} ) \n",
    "    AND \"SERIES\" = 'EQ'   '''"
   ]
  },
  {
   "cell_type": "code",
   "execution_count": 8,
   "metadata": {},
   "outputs": [],
   "source": [
    "# Validation query for cdc\n",
    "\n",
    "bhav_copy_count_sql = f''' SELECT COUNT(*) AS \"COUNT\" FROM {BHAV_COPY_TABLE_NAME} WHERE \"SERIES\" = 'EQ' '''\n",
    "equity_count_sql = f''' SELECT COUNT(*) AS \"COUNT\" FROM {EQUITY_TABLE_NAME}  '''"
   ]
  },
  {
   "cell_type": "code",
   "execution_count": 9,
   "metadata": {},
   "outputs": [],
   "source": [
    "# Database connection\n",
    "\n",
    "engine = sa.create_engine(f'{RDBMS_NAME}+{DRIVER_NAME}://{USER_NAME}:{PASSWORD}@{SERVER_NAME}/{DATABASE_NAME}')"
   ]
  },
  {
   "cell_type": "code",
   "execution_count": 10,
   "metadata": {},
   "outputs": [
    {
     "name": "stdout",
     "output_type": "stream",
     "text": [
      "CDC data fetched\n",
      "CDC data loaded.\n"
     ]
    }
   ],
   "source": [
    "with engine.connect() as con:\n",
    "    cdc_df = pd.read_sql(cdc_sql, con, parse_dates=['TIMESTAMP'])\n",
    "    cdc_df['DIFF'] = (cdc_df['PREVCLOSE'] - cdc_df['CLOSE']).round(3)\n",
    "    cdc_df['DIFFPREC'] = ((cdc_df['PREVCLOSE'] - cdc_df['CLOSE'])/cdc_df['PREVCLOSE']).round(6)\n",
    "    cdc_df['POSITIVE'] = cdc_df['DIFF'] > 0\n",
    "    cdc_df['YEAR'] = cdc_df['TIMESTAMP'].dt.year\n",
    "    cdc_df['MONTH'] = cdc_df['TIMESTAMP'].dt.month\n",
    "    cdc_df['WEEKDAY'] = cdc_df['TIMESTAMP'].dt.weekday\n",
    "    \n",
    "    cdc_df = cdc_df.replace([np.inf, -np.inf], np.nan)\n",
    "    \n",
    "    cdc_df.drop(columns=['FNAME'], inplace=True)\n",
    "    \n",
    "    cdc_df.rename(columns = {'ID': 'BHAVID'}, inplace=True)\n",
    "    \n",
    "    print('CDC data fetched')\n",
    "    \n",
    "    cdc_df.to_sql(EQUITY_TABLE_NAME, con, if_exists='append', chunksize=100000, index=False) # Loading chunk by chunk\n",
    "    \n",
    "    print(\"CDC data loaded.\")"
   ]
  },
  {
   "cell_type": "code",
   "execution_count": 13,
   "metadata": {},
   "outputs": [
    {
     "name": "stdout",
     "output_type": "stream",
     "text": [
      "CDC validation pass\n",
      "Program ends\n"
     ]
    }
   ],
   "source": [
    "with engine.connect() as con:\n",
    "    master_count = pd.read_sql(bhav_copy_count_sql, con)\n",
    "    equity_count = pd.read_sql(equity_count_sql, con)\n",
    "    \n",
    "    result = (master_count == equity_count)\n",
    "    \n",
    "    if result.all(axis=None):\n",
    "        print(\"CDC validation pass\")\n",
    "    else:\n",
    "        print(\"CDC validation failed\")\n",
    "        print(f'Master table - {master_count}')\n",
    "        print(f'Equity table - {equity_count}')\n",
    "\n",
    "print('Program ends')"
   ]
  }
 ],
 "metadata": {
  "kernelspec": {
   "display_name": "Python 3",
   "language": "python",
   "name": "python3"
  },
  "language_info": {
   "codemirror_mode": {
    "name": "ipython",
    "version": 3
   },
   "file_extension": ".py",
   "mimetype": "text/x-python",
   "name": "python",
   "nbconvert_exporter": "python",
   "pygments_lexer": "ipython3",
   "version": "3.7.4"
  }
 },
 "nbformat": 4,
 "nbformat_minor": 4
}
